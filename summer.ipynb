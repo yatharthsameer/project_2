{
 "cells": [
  {
   "cell_type": "markdown",
   "metadata": {
    "id": "3wAZliYagvvD"
   },
   "source": [
    "# Summer Olympics Data Analysis Assignment"
   ]
  },
  {
   "cell_type": "code",
   "execution_count": 1,
   "metadata": {
    "executionInfo": {
     "elapsed": 840,
     "status": "ok",
     "timestamp": 1631595166877,
     "user": {
      "displayName": "Rishabh Prakash",
      "photoUrl": "https://lh3.googleusercontent.com/a-/AOh14GgS-AIAF8H3ML5FlVUj-OziJVIhqxtFGQGfLCsvqA=s64",
      "userId": "11898544576911860267"
     },
     "user_tz": -330
    },
    "id": "MaBeMj3Og2rG"
   },
   "outputs": [],
   "source": [
    "import pandas as pd\n"
   ]
  },
  {
   "cell_type": "code",
   "execution_count": 32,
   "metadata": {
    "executionInfo": {
     "elapsed": 570,
     "status": "ok",
     "timestamp": 1631599367807,
     "user": {
      "displayName": "Rishabh Prakash",
      "photoUrl": "https://lh3.googleusercontent.com/a-/AOh14GgS-AIAF8H3ML5FlVUj-OziJVIhqxtFGQGfLCsvqA=s64",
      "userId": "11898544576911860267"
     },
     "user_tz": -330
    },
    "id": "zlRNORVUg8so"
   },
   "outputs": [],
   "source": [
    "df = pd.read_csv('summer.csv')"
   ]
  },
  {
   "cell_type": "code",
   "execution_count": 12,
   "metadata": {
    "colab": {
     "base_uri": "https://localhost:8080/",
     "height": 203
    },
    "executionInfo": {
     "elapsed": 434,
     "status": "ok",
     "timestamp": 1631595792869,
     "user": {
      "displayName": "Rishabh Prakash",
      "photoUrl": "https://lh3.googleusercontent.com/a-/AOh14GgS-AIAF8H3ML5FlVUj-OziJVIhqxtFGQGfLCsvqA=s64",
      "userId": "11898544576911860267"
     },
     "user_tz": -330
    },
    "id": "vz6NchsMhDmq",
    "outputId": "aeb7d955-44ec-495e-dc70-5dc1c6b62973"
   },
   "outputs": [
    {
     "data": {
      "text/html": [
       "<div>\n",
       "<style scoped>\n",
       "    .dataframe tbody tr th:only-of-type {\n",
       "        vertical-align: middle;\n",
       "    }\n",
       "\n",
       "    .dataframe tbody tr th {\n",
       "        vertical-align: top;\n",
       "    }\n",
       "\n",
       "    .dataframe thead th {\n",
       "        text-align: right;\n",
       "    }\n",
       "</style>\n",
       "<table border=\"1\" class=\"dataframe\">\n",
       "  <thead>\n",
       "    <tr style=\"text-align: right;\">\n",
       "      <th></th>\n",
       "      <th>Year</th>\n",
       "      <th>City</th>\n",
       "      <th>Sport</th>\n",
       "      <th>Discipline</th>\n",
       "      <th>Athlete</th>\n",
       "      <th>Country</th>\n",
       "      <th>Gender</th>\n",
       "      <th>Event</th>\n",
       "      <th>Medal</th>\n",
       "    </tr>\n",
       "  </thead>\n",
       "  <tbody>\n",
       "    <tr>\n",
       "      <th>0</th>\n",
       "      <td>1896</td>\n",
       "      <td>Athens</td>\n",
       "      <td>Aquatics</td>\n",
       "      <td>Swimming</td>\n",
       "      <td>HAJOS, Alfred</td>\n",
       "      <td>HUN</td>\n",
       "      <td>Men</td>\n",
       "      <td>100M Freestyle</td>\n",
       "      <td>Gold</td>\n",
       "    </tr>\n",
       "    <tr>\n",
       "      <th>1</th>\n",
       "      <td>1896</td>\n",
       "      <td>Athens</td>\n",
       "      <td>Aquatics</td>\n",
       "      <td>Swimming</td>\n",
       "      <td>HERSCHMANN, Otto</td>\n",
       "      <td>AUT</td>\n",
       "      <td>Men</td>\n",
       "      <td>100M Freestyle</td>\n",
       "      <td>Silver</td>\n",
       "    </tr>\n",
       "    <tr>\n",
       "      <th>2</th>\n",
       "      <td>1896</td>\n",
       "      <td>Athens</td>\n",
       "      <td>Aquatics</td>\n",
       "      <td>Swimming</td>\n",
       "      <td>DRIVAS, Dimitrios</td>\n",
       "      <td>GRE</td>\n",
       "      <td>Men</td>\n",
       "      <td>100M Freestyle For Sailors</td>\n",
       "      <td>Bronze</td>\n",
       "    </tr>\n",
       "    <tr>\n",
       "      <th>3</th>\n",
       "      <td>1896</td>\n",
       "      <td>Athens</td>\n",
       "      <td>Aquatics</td>\n",
       "      <td>Swimming</td>\n",
       "      <td>MALOKINIS, Ioannis</td>\n",
       "      <td>GRE</td>\n",
       "      <td>Men</td>\n",
       "      <td>100M Freestyle For Sailors</td>\n",
       "      <td>Gold</td>\n",
       "    </tr>\n",
       "    <tr>\n",
       "      <th>4</th>\n",
       "      <td>1896</td>\n",
       "      <td>Athens</td>\n",
       "      <td>Aquatics</td>\n",
       "      <td>Swimming</td>\n",
       "      <td>CHASAPIS, Spiridon</td>\n",
       "      <td>GRE</td>\n",
       "      <td>Men</td>\n",
       "      <td>100M Freestyle For Sailors</td>\n",
       "      <td>Silver</td>\n",
       "    </tr>\n",
       "  </tbody>\n",
       "</table>\n",
       "</div>"
      ],
      "text/plain": [
       "   Year    City     Sport Discipline             Athlete Country Gender  \\\n",
       "0  1896  Athens  Aquatics   Swimming       HAJOS, Alfred     HUN    Men   \n",
       "1  1896  Athens  Aquatics   Swimming    HERSCHMANN, Otto     AUT    Men   \n",
       "2  1896  Athens  Aquatics   Swimming   DRIVAS, Dimitrios     GRE    Men   \n",
       "3  1896  Athens  Aquatics   Swimming  MALOKINIS, Ioannis     GRE    Men   \n",
       "4  1896  Athens  Aquatics   Swimming  CHASAPIS, Spiridon     GRE    Men   \n",
       "\n",
       "                        Event   Medal  \n",
       "0              100M Freestyle    Gold  \n",
       "1              100M Freestyle  Silver  \n",
       "2  100M Freestyle For Sailors  Bronze  \n",
       "3  100M Freestyle For Sailors    Gold  \n",
       "4  100M Freestyle For Sailors  Silver  "
      ]
     },
     "execution_count": 12,
     "metadata": {},
     "output_type": "execute_result"
    }
   ],
   "source": [
    "df.head()"
   ]
  },
  {
   "cell_type": "markdown",
   "metadata": {
    "id": "D7ZjL6I8gvvH"
   },
   "source": [
    "### 1. In how many cities Summer Olympics is held so far?"
   ]
  },
  {
   "cell_type": "code",
   "execution_count": null,
   "metadata": {
    "colab": {
     "base_uri": "https://localhost:8080/"
    },
    "executionInfo": {
     "elapsed": 359,
     "status": "ok",
     "timestamp": 1631559436301,
     "user": {
      "displayName": "Piyush Pratap Singh",
      "photoUrl": "https://lh3.googleusercontent.com/a-/AOh14GighPO1ep07fUT1JiU7REOlCG3fIA5NNhSkPy8BLA=s64",
      "userId": "10388832462697580456"
     },
     "user_tz": -330
    },
    "id": "3_DxxiA6gvvH",
    "outputId": "9e5196a2-7eda-4279-b1e2-a06f090cd9c1"
   },
   "outputs": [
    {
     "data": {
      "text/plain": [
       "22"
      ]
     },
     "execution_count": 6,
     "metadata": {},
     "output_type": "execute_result"
    }
   ],
   "source": [
    "len(df['City'].unique())"
   ]
  },
  {
   "cell_type": "markdown",
   "metadata": {
    "id": "Hc3FYqIMgvvI"
   },
   "source": [
    "### 2. Which sport is having most number of Gold Medals so far? (Top 5)"
   ]
  },
  {
   "cell_type": "code",
   "execution_count": 26,
   "metadata": {
    "colab": {
     "base_uri": "https://localhost:8080/",
     "height": 403
    },
    "executionInfo": {
     "elapsed": 912,
     "status": "ok",
     "timestamp": 1631598445732,
     "user": {
      "displayName": "Rishabh Prakash",
      "photoUrl": "https://lh3.googleusercontent.com/a-/AOh14GgS-AIAF8H3ML5FlVUj-OziJVIhqxtFGQGfLCsvqA=s64",
      "userId": "11898544576911860267"
     },
     "user_tz": -330
    },
    "id": "xdgwrZH9j4P_",
    "outputId": "a7f2a9bd-ba62-4496-da82-40331d036b3b"
   },
   "outputs": [
    {
     "data": {
      "text/plain": [
       "<matplotlib.axes._subplots.AxesSubplot at 0x7f2921cdb890>"
      ]
     },
     "execution_count": 26,
     "metadata": {},
     "output_type": "execute_result"
    },
    {
     "data": {
      "image/png": "[encoded data removed]",
      "text/plain": [
       "<Figure size 360x360 with 1 Axes>"
      ]
     },
     "metadata": {
      "needs_background": "light"
     },
     "output_type": "display_data"
    }
   ],
   "source": [
    "df = pd.read_csv('summer.csv')\n",
    "df = df[df['Medal']=='Gold']\n",
    "\n",
    "data = []\n",
    "\n",
    "for sport in df['Sport'].unique():\n",
    "   data.append([sport,len(df[df['Sport']==sport])])\n",
    "\n",
    "pd.DataFrame(data,columns=['sport','freq']).sort_values(by='freq',ascending=False).head().plot(x='sport',y='freq',kind='bar',figsize=(5,5))"
   ]
  },
  {
   "cell_type": "markdown",
   "metadata": {
    "id": "5t4k1C_6gvvI"
   },
   "source": [
    "### 3. Which sport is having most number of medals so far? (Top 5)"
   ]
  },
  {
   "cell_type": "code",
   "execution_count": 35,
   "metadata": {
    "colab": {
     "base_uri": "https://localhost:8080/",
     "height": 403
    },
    "executionInfo": {
     "elapsed": 1034,
     "status": "ok",
     "timestamp": 1631599582664,
     "user": {
      "displayName": "Rishabh Prakash",
      "photoUrl": "https://lh3.googleusercontent.com/a-/AOh14GgS-AIAF8H3ML5FlVUj-OziJVIhqxtFGQGfLCsvqA=s64",
      "userId": "11898544576911860267"
     },
     "user_tz": -330
    },
    "id": "xyIyQMWagvvJ",
    "outputId": "2370b75a-0991-4464-83bb-bdca27e8139e"
   },
   "outputs": [
    {
     "data": {
      "text/plain": [
       "<matplotlib.axes._subplots.AxesSubplot at 0x7f2921890510>"
      ]
     },
     "execution_count": 35,
     "metadata": {},
     "output_type": "execute_result"
    },
    {
     "data": {
      "image/png": "[encoded data removed]",
      "text/plain": [
       "<Figure size 360x360 with 1 Axes>"
      ]
     },
     "metadata": {
      "needs_background": "light"
     },
     "output_type": "display_data"
    }
   ],
   "source": [
    "data = []\n",
    "for sport in df['Sport'].unique():\n",
    "  data.append([sport, len(df[df['Sport'] == sport])])\n",
    "\n",
    "#data = pd.DataFrame(data,columns = ['Sport','Medal freq'])\n",
    "#data = data.sort_values(by = 'Medal freq',ascending=False)\n",
    "#data.head()\n",
    "pd.DataFrame(data,columns=['sport','freq']).sort_values(by='freq',ascending=False).head().plot(x='sport',y='freq',kind='bar',figsize=(5,5))"
   ]
  },
  {
   "cell_type": "markdown",
   "metadata": {
    "id": "FKowqSrPgvvJ"
   },
   "source": [
    "### 4. Which player has won most number of medals? (Top 5)"
   ]
  },
  {
   "cell_type": "code",
   "execution_count": 34,
   "metadata": {
    "colab": {
     "base_uri": "https://localhost:8080/",
     "height": 462
    },
    "executionInfo": {
     "elapsed": 67742,
     "status": "ok",
     "timestamp": 1631599545238,
     "user": {
      "displayName": "Rishabh Prakash",
      "photoUrl": "https://lh3.googleusercontent.com/a-/AOh14GgS-AIAF8H3ML5FlVUj-OziJVIhqxtFGQGfLCsvqA=s64",
      "userId": "11898544576911860267"
     },
     "user_tz": -330
    },
    "id": "Air3QhzPgvvJ",
    "outputId": "72ca98b1-a24c-4eb7-f628-4a39445ebbaf"
   },
   "outputs": [
    {
     "data": {
      "text/plain": [
       "<matplotlib.axes._subplots.AxesSubplot at 0x7f2921ab9250>"
      ]
     },
     "execution_count": 34,
     "metadata": {},
     "output_type": "execute_result"
    },
    {
     "data": {
      "image/png": "[encoded data removed]",
      "text/plain": [
       "<Figure size 360x360 with 1 Axes>"
      ]
     },
     "metadata": {
      "needs_background": "light"
     },
     "output_type": "display_data"
    }
   ],
   "source": [
    "data  = []\n",
    "\n",
    "for Athlete in df['Athlete'].unique():\n",
    "  data.append([Athlete, len(df[df['Athlete'] == Athlete])])\n",
    "\n",
    "#data = pd.DataFrame(data,columns = ['Athlete','Medal freq'])\n",
    "#data = data.sort_values(by = 'Medal freq',ascending=False)\n",
    "#data.head()\n",
    "pd.DataFrame(data,columns=['Athlete','freq']).sort_values(by='freq',ascending=False).head().plot(x='Athlete',y='freq',kind='bar',figsize=(5,5))"
   ]
  },
  {
   "cell_type": "markdown",
   "metadata": {
    "id": "VBzxyHvegvvK"
   },
   "source": [
    "### 5. Which player has won most number Gold Medals of medals? (Top 5)"
   ]
  },
  {
   "cell_type": "code",
   "execution_count": 25,
   "metadata": {
    "colab": {
     "base_uri": "https://localhost:8080/",
     "height": 430
    },
    "executionInfo": {
     "elapsed": 13876,
     "status": "ok",
     "timestamp": 1631598291436,
     "user": {
      "displayName": "Rishabh Prakash",
      "photoUrl": "https://lh3.googleusercontent.com/a-/AOh14GgS-AIAF8H3ML5FlVUj-OziJVIhqxtFGQGfLCsvqA=s64",
      "userId": "11898544576911860267"
     },
     "user_tz": -330
    },
    "id": "-uif5mK-gvvK",
    "outputId": "b8ada75b-3369-4351-98b2-e8c6c3f7cb89"
   },
   "outputs": [
    {
     "data": {
      "text/plain": [
       "<matplotlib.axes._subplots.AxesSubplot at 0x7f2922131310>"
      ]
     },
     "execution_count": 25,
     "metadata": {},
     "output_type": "execute_result"
    },
    {
     "data": {
      "image/png": "[encoded data removed]",
      "text/plain": [
       "<Figure size 360x360 with 1 Axes>"
      ]
     },
     "metadata": {
      "needs_background": "light"
     },
     "output_type": "display_data"
    }
   ],
   "source": [
    "df = pd.read_csv('summer.csv')\n",
    "df = df[df['Medal']=='Gold']\n",
    "\n",
    "data = []\n",
    "\n",
    "for athlete in df['Athlete'].unique():\n",
    "   data.append([athlete,len(df[df['Athlete']==athlete])])\n",
    "\n",
    "pd.DataFrame(data,columns=['athlete','freq']).sort_values(by='freq',ascending=False).head().plot(x='athlete',y='freq',kind='bar',figsize=(5,5))"
   ]
  },
  {
   "cell_type": "markdown",
   "metadata": {
    "id": "40evw-HzgvvK"
   },
   "source": [
    "### 6. In which year India won first Gold Medal in Summer Olympics?"
   ]
  },
  {
   "cell_type": "code",
   "execution_count": 36,
   "metadata": {
    "colab": {
     "base_uri": "https://localhost:8080/"
    },
    "executionInfo": {
     "elapsed": 619,
     "status": "ok",
     "timestamp": 1631599734014,
     "user": {
      "displayName": "Rishabh Prakash",
      "photoUrl": "https://lh3.googleusercontent.com/a-/AOh14GgS-AIAF8H3ML5FlVUj-OziJVIhqxtFGQGfLCsvqA=s64",
      "userId": "11898544576911860267"
     },
     "user_tz": -330
    },
    "id": "aIT_ESvqgvvL",
    "outputId": "e5348089-bb85-4702-93c7-4b30bcb42b9c"
   },
   "outputs": [
    {
     "data": {
      "text/plain": [
       "241    1900\n",
       "Name: Year, dtype: int64"
      ]
     },
     "execution_count": 36,
     "metadata": {},
     "output_type": "execute_result"
    }
   ],
   "source": [
    "data = df[df['Country'] == 'IND']\n",
    "data.head(1)['Year']"
   ]
  },
  {
   "cell_type": "markdown",
   "metadata": {
    "id": "3JvQEVTYgvvL"
   },
   "source": [
    "### 7. Which event is most popular in terms on number of players? (Top 5)"
   ]
  },
  {
   "cell_type": "code",
   "execution_count": 17,
   "metadata": {
    "colab": {
     "base_uri": "https://localhost:8080/",
     "height": 436
    },
    "executionInfo": {
     "elapsed": 2112,
     "status": "ok",
     "timestamp": 1631596195756,
     "user": {
      "displayName": "Rishabh Prakash",
      "photoUrl": "https://lh3.googleusercontent.com/a-/AOh14GgS-AIAF8H3ML5FlVUj-OziJVIhqxtFGQGfLCsvqA=s64",
      "userId": "11898544576911860267"
     },
     "user_tz": -330
    },
    "id": "p_R0jgdmgvvL",
    "outputId": "03279ac4-5dad-489c-e278-a1a025e4f1b8"
   },
   "outputs": [
    {
     "data": {
      "text/plain": [
       "<matplotlib.axes._subplots.AxesSubplot at 0x7f29220fd490>"
      ]
     },
     "execution_count": 17,
     "metadata": {},
     "output_type": "execute_result"
    },
    {
     "data": {
      "image/png": "[encoded data removed]",
      "text/plain": [
       "<Figure size 360x360 with 1 Axes>"
      ]
     },
     "metadata": {
      "needs_background": "light"
     },
     "output_type": "display_data"
    }
   ],
   "source": [
    "data=[]\n",
    "\n",
    "for event in df['Event'].unique():\n",
    "  data.append([event,len(df[df['Event']==event])])\n",
    "\n",
    "pd.DataFrame(data,columns=['event','freq']).sort_values(by='freq',ascending=False).head().plot(x='event',y='freq',kind='bar',figsize=(5,5))"
   ]
  },
  {
   "cell_type": "markdown",
   "metadata": {
    "id": "mOn_SfPGgvvL"
   },
   "source": [
    "### 8. Which sport is having most female Gold Medalists? (Top 5)"
   ]
  },
  {
   "cell_type": "code",
   "execution_count": 27,
   "metadata": {
    "colab": {
     "base_uri": "https://localhost:8080/",
     "height": 403
    },
    "executionInfo": {
     "elapsed": 2001,
     "status": "ok",
     "timestamp": 1631598845941,
     "user": {
      "displayName": "Rishabh Prakash",
      "photoUrl": "https://lh3.googleusercontent.com/a-/AOh14GgS-AIAF8H3ML5FlVUj-OziJVIhqxtFGQGfLCsvqA=s64",
      "userId": "11898544576911860267"
     },
     "user_tz": -330
    },
    "id": "4lmVKJ5SgvvM",
    "outputId": "0f5441d7-5bd0-4f24-b2c0-bc0daccc8227"
   },
   "outputs": [
    {
     "data": {
      "text/plain": [
       "<matplotlib.axes._subplots.AxesSubplot at 0x7f2921c4cc90>"
      ]
     },
     "execution_count": 27,
     "metadata": {},
     "output_type": "execute_result"
    },
    {
     "data": {
      "image/png": "[encoded data removed]",
      "text/plain": [
       "<Figure size 360x360 with 1 Axes>"
      ]
     },
     "metadata": {
      "needs_background": "light"
     },
     "output_type": "display_data"
    }
   ],
   "source": [
    "df = pd.read_csv('summer.csv')\n",
    "df = df[df['Medal']=='Gold']\n",
    "df = df[df['Gender']=='Women']\n",
    "\n",
    "data = []\n",
    "\n",
    "for sport in df['Sport'].unique():\n",
    "   data.append([sport,len(df[df['Sport']==sport])])\n",
    "\n",
    "pd.DataFrame(data,columns=['sport','freq']).sort_values(by='freq',ascending=False).head().plot(x='sport',y='freq',kind='bar',figsize=(5,5))"
   ]
  }
 ],
 "metadata": {
  "colab": {
   "collapsed_sections": [],
   "name": "Summer.ipynb",
   "provenance": []
  },
  "kernelspec": {
   "display_name": "Python 3",
   "language": "python",
   "name": "python3"
  },
  "language_info": {
   "codemirror_mode": {
    "name": "ipython",
    "version": 3
   },
   "file_extension": ".py",
   "mimetype": "text/x-python",
   "name": "python",
   "nbconvert_exporter": "python",
   "pygments_lexer": "ipython3",
   "version": "3.8.8"
  }
 },
 "nbformat": 4,
 "nbformat_minor": 4
}
